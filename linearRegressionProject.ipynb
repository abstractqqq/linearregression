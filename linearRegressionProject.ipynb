{
  "nbformat": 4,
  "nbformat_minor": 0,
  "metadata": {
    "colab": {
      "name": "linearRegressionProject.ipynb",
      "provenance": [],
      "authorship_tag": "ABX9TyMnXXZJdE4udNdEQJk5izXq",
      "include_colab_link": true
    },
    "kernelspec": {
      "name": "python3",
      "display_name": "Python 3"
    },
    "language_info": {
      "name": "python"
    }
  },
  "cells": [
    {
      "cell_type": "markdown",
      "metadata": {
        "id": "view-in-github",
        "colab_type": "text"
      },
      "source": [
        "<a href=\"https://colab.research.google.com/github/qtren/linearregression/blob/main/linearRegressionProject.ipynb\" target=\"_parent\"><img src=\"https://colab.research.google.com/assets/colab-badge.svg\" alt=\"Open In Colab\"/></a>"
      ]
    },
    {
      "cell_type": "code",
      "metadata": {
        "id": "wUfwRDynBKRK"
      },
      "source": [
        "import numpy as np\n",
        "import pandas as pd\n",
        "import seaborn as sns\n",
        "import matplotlib.pyplot as plt\n",
        "from sklearn.model_selection import train_test_split\n",
        "from sklearn.linear_model import LinearRegression\n",
        "from sklearn.metrics import mean_squared_error"
      ],
      "execution_count": 39,
      "outputs": []
    },
    {
      "cell_type": "code",
      "metadata": {
        "colab": {
          "base_uri": "https://localhost:8080/",
          "height": 437
        },
        "id": "TxOphM_1Ep6g",
        "outputId": "bb17e89e-ef66-4c44-de19-c5ed13bfafbb"
      },
      "source": [
        "dt = pd.read_csv('kc_house_data.csv')\n",
        "# Check data\n",
        "dt"
      ],
      "execution_count": 49,
      "outputs": [
        {
          "output_type": "execute_result",
          "data": {
            "text/html": [
              "<div>\n",
              "<style scoped>\n",
              "    .dataframe tbody tr th:only-of-type {\n",
              "        vertical-align: middle;\n",
              "    }\n",
              "\n",
              "    .dataframe tbody tr th {\n",
              "        vertical-align: top;\n",
              "    }\n",
              "\n",
              "    .dataframe thead th {\n",
              "        text-align: right;\n",
              "    }\n",
              "</style>\n",
              "<table border=\"1\" class=\"dataframe\">\n",
              "  <thead>\n",
              "    <tr style=\"text-align: right;\">\n",
              "      <th></th>\n",
              "      <th>id</th>\n",
              "      <th>date</th>\n",
              "      <th>price</th>\n",
              "      <th>bedrooms</th>\n",
              "      <th>bathrooms</th>\n",
              "      <th>sqft_living</th>\n",
              "      <th>sqft_lot</th>\n",
              "      <th>floors</th>\n",
              "      <th>waterfront</th>\n",
              "      <th>view</th>\n",
              "      <th>condition</th>\n",
              "      <th>grade</th>\n",
              "      <th>sqft_above</th>\n",
              "      <th>sqft_basement</th>\n",
              "      <th>yr_built</th>\n",
              "      <th>yr_renovated</th>\n",
              "      <th>zipcode</th>\n",
              "      <th>lat</th>\n",
              "      <th>long</th>\n",
              "      <th>sqft_living15</th>\n",
              "      <th>sqft_lot15</th>\n",
              "    </tr>\n",
              "  </thead>\n",
              "  <tbody>\n",
              "    <tr>\n",
              "      <th>0</th>\n",
              "      <td>7129300520</td>\n",
              "      <td>20141013T000000</td>\n",
              "      <td>221900.0</td>\n",
              "      <td>3</td>\n",
              "      <td>1.00</td>\n",
              "      <td>1180</td>\n",
              "      <td>5650</td>\n",
              "      <td>1.0</td>\n",
              "      <td>0</td>\n",
              "      <td>0</td>\n",
              "      <td>3</td>\n",
              "      <td>7</td>\n",
              "      <td>1180</td>\n",
              "      <td>0</td>\n",
              "      <td>1955</td>\n",
              "      <td>0</td>\n",
              "      <td>98178</td>\n",
              "      <td>47.5112</td>\n",
              "      <td>-122.257</td>\n",
              "      <td>1340</td>\n",
              "      <td>5650</td>\n",
              "    </tr>\n",
              "    <tr>\n",
              "      <th>1</th>\n",
              "      <td>6414100192</td>\n",
              "      <td>20141209T000000</td>\n",
              "      <td>538000.0</td>\n",
              "      <td>3</td>\n",
              "      <td>2.25</td>\n",
              "      <td>2570</td>\n",
              "      <td>7242</td>\n",
              "      <td>2.0</td>\n",
              "      <td>0</td>\n",
              "      <td>0</td>\n",
              "      <td>3</td>\n",
              "      <td>7</td>\n",
              "      <td>2170</td>\n",
              "      <td>400</td>\n",
              "      <td>1951</td>\n",
              "      <td>1991</td>\n",
              "      <td>98125</td>\n",
              "      <td>47.7210</td>\n",
              "      <td>-122.319</td>\n",
              "      <td>1690</td>\n",
              "      <td>7639</td>\n",
              "    </tr>\n",
              "    <tr>\n",
              "      <th>2</th>\n",
              "      <td>5631500400</td>\n",
              "      <td>20150225T000000</td>\n",
              "      <td>180000.0</td>\n",
              "      <td>2</td>\n",
              "      <td>1.00</td>\n",
              "      <td>770</td>\n",
              "      <td>10000</td>\n",
              "      <td>1.0</td>\n",
              "      <td>0</td>\n",
              "      <td>0</td>\n",
              "      <td>3</td>\n",
              "      <td>6</td>\n",
              "      <td>770</td>\n",
              "      <td>0</td>\n",
              "      <td>1933</td>\n",
              "      <td>0</td>\n",
              "      <td>98028</td>\n",
              "      <td>47.7379</td>\n",
              "      <td>-122.233</td>\n",
              "      <td>2720</td>\n",
              "      <td>8062</td>\n",
              "    </tr>\n",
              "    <tr>\n",
              "      <th>3</th>\n",
              "      <td>2487200875</td>\n",
              "      <td>20141209T000000</td>\n",
              "      <td>604000.0</td>\n",
              "      <td>4</td>\n",
              "      <td>3.00</td>\n",
              "      <td>1960</td>\n",
              "      <td>5000</td>\n",
              "      <td>1.0</td>\n",
              "      <td>0</td>\n",
              "      <td>0</td>\n",
              "      <td>5</td>\n",
              "      <td>7</td>\n",
              "      <td>1050</td>\n",
              "      <td>910</td>\n",
              "      <td>1965</td>\n",
              "      <td>0</td>\n",
              "      <td>98136</td>\n",
              "      <td>47.5208</td>\n",
              "      <td>-122.393</td>\n",
              "      <td>1360</td>\n",
              "      <td>5000</td>\n",
              "    </tr>\n",
              "    <tr>\n",
              "      <th>4</th>\n",
              "      <td>1954400510</td>\n",
              "      <td>20150218T000000</td>\n",
              "      <td>510000.0</td>\n",
              "      <td>3</td>\n",
              "      <td>2.00</td>\n",
              "      <td>1680</td>\n",
              "      <td>8080</td>\n",
              "      <td>1.0</td>\n",
              "      <td>0</td>\n",
              "      <td>0</td>\n",
              "      <td>3</td>\n",
              "      <td>8</td>\n",
              "      <td>1680</td>\n",
              "      <td>0</td>\n",
              "      <td>1987</td>\n",
              "      <td>0</td>\n",
              "      <td>98074</td>\n",
              "      <td>47.6168</td>\n",
              "      <td>-122.045</td>\n",
              "      <td>1800</td>\n",
              "      <td>7503</td>\n",
              "    </tr>\n",
              "    <tr>\n",
              "      <th>...</th>\n",
              "      <td>...</td>\n",
              "      <td>...</td>\n",
              "      <td>...</td>\n",
              "      <td>...</td>\n",
              "      <td>...</td>\n",
              "      <td>...</td>\n",
              "      <td>...</td>\n",
              "      <td>...</td>\n",
              "      <td>...</td>\n",
              "      <td>...</td>\n",
              "      <td>...</td>\n",
              "      <td>...</td>\n",
              "      <td>...</td>\n",
              "      <td>...</td>\n",
              "      <td>...</td>\n",
              "      <td>...</td>\n",
              "      <td>...</td>\n",
              "      <td>...</td>\n",
              "      <td>...</td>\n",
              "      <td>...</td>\n",
              "      <td>...</td>\n",
              "    </tr>\n",
              "    <tr>\n",
              "      <th>21608</th>\n",
              "      <td>263000018</td>\n",
              "      <td>20140521T000000</td>\n",
              "      <td>360000.0</td>\n",
              "      <td>3</td>\n",
              "      <td>2.50</td>\n",
              "      <td>1530</td>\n",
              "      <td>1131</td>\n",
              "      <td>3.0</td>\n",
              "      <td>0</td>\n",
              "      <td>0</td>\n",
              "      <td>3</td>\n",
              "      <td>8</td>\n",
              "      <td>1530</td>\n",
              "      <td>0</td>\n",
              "      <td>2009</td>\n",
              "      <td>0</td>\n",
              "      <td>98103</td>\n",
              "      <td>47.6993</td>\n",
              "      <td>-122.346</td>\n",
              "      <td>1530</td>\n",
              "      <td>1509</td>\n",
              "    </tr>\n",
              "    <tr>\n",
              "      <th>21609</th>\n",
              "      <td>6600060120</td>\n",
              "      <td>20150223T000000</td>\n",
              "      <td>400000.0</td>\n",
              "      <td>4</td>\n",
              "      <td>2.50</td>\n",
              "      <td>2310</td>\n",
              "      <td>5813</td>\n",
              "      <td>2.0</td>\n",
              "      <td>0</td>\n",
              "      <td>0</td>\n",
              "      <td>3</td>\n",
              "      <td>8</td>\n",
              "      <td>2310</td>\n",
              "      <td>0</td>\n",
              "      <td>2014</td>\n",
              "      <td>0</td>\n",
              "      <td>98146</td>\n",
              "      <td>47.5107</td>\n",
              "      <td>-122.362</td>\n",
              "      <td>1830</td>\n",
              "      <td>7200</td>\n",
              "    </tr>\n",
              "    <tr>\n",
              "      <th>21610</th>\n",
              "      <td>1523300141</td>\n",
              "      <td>20140623T000000</td>\n",
              "      <td>402101.0</td>\n",
              "      <td>2</td>\n",
              "      <td>0.75</td>\n",
              "      <td>1020</td>\n",
              "      <td>1350</td>\n",
              "      <td>2.0</td>\n",
              "      <td>0</td>\n",
              "      <td>0</td>\n",
              "      <td>3</td>\n",
              "      <td>7</td>\n",
              "      <td>1020</td>\n",
              "      <td>0</td>\n",
              "      <td>2009</td>\n",
              "      <td>0</td>\n",
              "      <td>98144</td>\n",
              "      <td>47.5944</td>\n",
              "      <td>-122.299</td>\n",
              "      <td>1020</td>\n",
              "      <td>2007</td>\n",
              "    </tr>\n",
              "    <tr>\n",
              "      <th>21611</th>\n",
              "      <td>291310100</td>\n",
              "      <td>20150116T000000</td>\n",
              "      <td>400000.0</td>\n",
              "      <td>3</td>\n",
              "      <td>2.50</td>\n",
              "      <td>1600</td>\n",
              "      <td>2388</td>\n",
              "      <td>2.0</td>\n",
              "      <td>0</td>\n",
              "      <td>0</td>\n",
              "      <td>3</td>\n",
              "      <td>8</td>\n",
              "      <td>1600</td>\n",
              "      <td>0</td>\n",
              "      <td>2004</td>\n",
              "      <td>0</td>\n",
              "      <td>98027</td>\n",
              "      <td>47.5345</td>\n",
              "      <td>-122.069</td>\n",
              "      <td>1410</td>\n",
              "      <td>1287</td>\n",
              "    </tr>\n",
              "    <tr>\n",
              "      <th>21612</th>\n",
              "      <td>1523300157</td>\n",
              "      <td>20141015T000000</td>\n",
              "      <td>325000.0</td>\n",
              "      <td>2</td>\n",
              "      <td>0.75</td>\n",
              "      <td>1020</td>\n",
              "      <td>1076</td>\n",
              "      <td>2.0</td>\n",
              "      <td>0</td>\n",
              "      <td>0</td>\n",
              "      <td>3</td>\n",
              "      <td>7</td>\n",
              "      <td>1020</td>\n",
              "      <td>0</td>\n",
              "      <td>2008</td>\n",
              "      <td>0</td>\n",
              "      <td>98144</td>\n",
              "      <td>47.5941</td>\n",
              "      <td>-122.299</td>\n",
              "      <td>1020</td>\n",
              "      <td>1357</td>\n",
              "    </tr>\n",
              "  </tbody>\n",
              "</table>\n",
              "<p>21613 rows × 21 columns</p>\n",
              "</div>"
            ],
            "text/plain": [
              "               id             date  ...  sqft_living15  sqft_lot15\n",
              "0      7129300520  20141013T000000  ...           1340        5650\n",
              "1      6414100192  20141209T000000  ...           1690        7639\n",
              "2      5631500400  20150225T000000  ...           2720        8062\n",
              "3      2487200875  20141209T000000  ...           1360        5000\n",
              "4      1954400510  20150218T000000  ...           1800        7503\n",
              "...           ...              ...  ...            ...         ...\n",
              "21608   263000018  20140521T000000  ...           1530        1509\n",
              "21609  6600060120  20150223T000000  ...           1830        7200\n",
              "21610  1523300141  20140623T000000  ...           1020        2007\n",
              "21611   291310100  20150116T000000  ...           1410        1287\n",
              "21612  1523300157  20141015T000000  ...           1020        1357\n",
              "\n",
              "[21613 rows x 21 columns]"
            ]
          },
          "metadata": {
            "tags": []
          },
          "execution_count": 49
        }
      ]
    },
    {
      "cell_type": "code",
      "metadata": {
        "colab": {
          "base_uri": "https://localhost:8080/",
          "height": 276
        },
        "id": "ZPn5xRq-KMRo",
        "outputId": "8003dd62-2f28-4b40-f7c3-800204512e97"
      },
      "source": [
        "# Initial Observations\n",
        "# Price vs Bedrooms\n",
        "\n",
        "price = dt['price']\n",
        "bedrooms = dt['bedrooms']\n",
        "plt.scatter(bedrooms, price)\n",
        "plt.show()"
      ],
      "execution_count": 50,
      "outputs": [
        {
          "output_type": "display_data",
          "data": {
            "image/png": "[encoded data removed]",
            "text/plain": [
              "<Figure size 432x288 with 1 Axes>"
            ]
          },
          "metadata": {
            "tags": [],
            "needs_background": "light"
          }
        }
      ]
    },
    {
      "cell_type": "code",
      "metadata": {
        "id": "NlHIAm0BLKOf"
      },
      "source": [
        "# We found an outlier. It will be a better idea to remove it\n",
        "dt = dt[dt['bedrooms']<15]"
      ],
      "execution_count": 51,
      "outputs": []
    },
    {
      "cell_type": "code",
      "metadata": {
        "colab": {
          "base_uri": "https://localhost:8080/",
          "height": 276
        },
        "id": "g9WlNdBRLTBL",
        "outputId": "56ccbd45-f6e6-47fc-f8d5-aabfd88704ca"
      },
      "source": [
        "# Try this again\n",
        "# Price vs Bedrooms\n",
        "\n",
        "price = dt['price']\n",
        "bedrooms = dt['bedrooms']\n",
        "plt.scatter(bedrooms, price)\n",
        "plt.show()"
      ],
      "execution_count": 52,
      "outputs": [
        {
          "output_type": "display_data",
          "data": {
            "image/png": "[encoded data removed]",
            "text/plain": [
              "<Figure size 432x288 with 1 Axes>"
            ]
          },
          "metadata": {
            "tags": [],
            "needs_background": "light"
          }
        }
      ]
    },
    {
      "cell_type": "code",
      "metadata": {
        "colab": {
          "base_uri": "https://localhost:8080/",
          "height": 266
        },
        "id": "2xI0ALIkKMT8",
        "outputId": "1c9336e0-a744-4005-ac2b-8ae4dff2dd2b"
      },
      "source": [
        "# price vs sqft_living\n",
        "price = dt['price']\n",
        "sqft_living = dt['sqft_living']\n",
        "plt.scatter(bedrooms, sqft_living)\n",
        "plt.show()"
      ],
      "execution_count": 53,
      "outputs": [
        {
          "output_type": "display_data",
          "data": {
            "image/png": "[encoded data removed]",
            "text/plain": [
              "<Figure size 432x288 with 1 Axes>"
            ]
          },
          "metadata": {
            "tags": [],
            "needs_background": "light"
          }
        }
      ]
    },
    {
      "cell_type": "code",
      "metadata": {
        "id": "S_L1xCu3KMWm"
      },
      "source": [
        "# We can see some coorelation. Instead of checking price vs some_variable one by one\n",
        "# We can use the correlation matrix."
      ],
      "execution_count": 30,
      "outputs": []
    },
    {
      "cell_type": "code",
      "metadata": {
        "id": "_PKWgNG9FqiZ"
      },
      "source": [
        "# I dropped the date column because the data is not properly formatted\n",
        "# Moreover, even if we have date values like 20151004, it doesn't mean the same\n",
        "# as the integer 20151004. It means a date. House prices varies according to date\n",
        "# because of economic conditions, but treating 20151004 as an integer will only\n",
        "# confuse the model. The model is not going to know we mean a date instead of an int. \n",
        "\n",
        "# Zip code won't matter either, because again zip code is discontinuously distributed\n",
        "# and unsuitable for linear regression models."
      ],
      "execution_count": 31,
      "outputs": []
    },
    {
      "cell_type": "code",
      "metadata": {
        "colab": {
          "base_uri": "https://localhost:8080/",
          "height": 470
        },
        "id": "2BRRjQgiFqki",
        "outputId": "32aaa447-2f2c-4cb7-ca22-ed06a41619e7"
      },
      "source": [
        "# Choose the most relevant data by human experience\n",
        "dt = dt [['price', 'bedrooms', 'bathrooms' , 'sqft_living', 'sqft_lot', 'floors', 'waterfront', 'condition',\\\n",
        "          'grade', 'sqft_above', 'yr_built', 'sqft_living15', 'sqft_lot15']]\n",
        "# Check correlation matrix\n",
        "dt.corr()\n",
        "\n",
        "# Surprisingly condition doesn't have a strong effect on price\n",
        "# For this data set, condition varies from 1 to 5, with 5 being the worst condition"
      ],
      "execution_count": 54,
      "outputs": [
        {
          "output_type": "execute_result",
          "data": {
            "text/html": [
              "<div>\n",
              "<style scoped>\n",
              "    .dataframe tbody tr th:only-of-type {\n",
              "        vertical-align: middle;\n",
              "    }\n",
              "\n",
              "    .dataframe tbody tr th {\n",
              "        vertical-align: top;\n",
              "    }\n",
              "\n",
              "    .dataframe thead th {\n",
              "        text-align: right;\n",
              "    }\n",
              "</style>\n",
              "<table border=\"1\" class=\"dataframe\">\n",
              "  <thead>\n",
              "    <tr style=\"text-align: right;\">\n",
              "      <th></th>\n",
              "      <th>price</th>\n",
              "      <th>bedrooms</th>\n",
              "      <th>bathrooms</th>\n",
              "      <th>sqft_living</th>\n",
              "      <th>sqft_lot</th>\n",
              "      <th>floors</th>\n",
              "      <th>waterfront</th>\n",
              "      <th>condition</th>\n",
              "      <th>grade</th>\n",
              "      <th>sqft_above</th>\n",
              "      <th>yr_built</th>\n",
              "      <th>sqft_living15</th>\n",
              "      <th>sqft_lot15</th>\n",
              "    </tr>\n",
              "  </thead>\n",
              "  <tbody>\n",
              "    <tr>\n",
              "      <th>price</th>\n",
              "      <td>1.000000</td>\n",
              "      <td>0.315445</td>\n",
              "      <td>0.525147</td>\n",
              "      <td>0.702047</td>\n",
              "      <td>0.089664</td>\n",
              "      <td>0.256811</td>\n",
              "      <td>0.266371</td>\n",
              "      <td>0.036336</td>\n",
              "      <td>0.667447</td>\n",
              "      <td>0.605591</td>\n",
              "      <td>0.054023</td>\n",
              "      <td>0.585404</td>\n",
              "      <td>0.082451</td>\n",
              "    </tr>\n",
              "    <tr>\n",
              "      <th>bedrooms</th>\n",
              "      <td>0.315445</td>\n",
              "      <td>1.000000</td>\n",
              "      <td>0.529159</td>\n",
              "      <td>0.591467</td>\n",
              "      <td>0.032807</td>\n",
              "      <td>0.181085</td>\n",
              "      <td>-0.006611</td>\n",
              "      <td>0.025478</td>\n",
              "      <td>0.366502</td>\n",
              "      <td>0.490600</td>\n",
              "      <td>0.159167</td>\n",
              "      <td>0.402626</td>\n",
              "      <td>0.030402</td>\n",
              "    </tr>\n",
              "    <tr>\n",
              "      <th>bathrooms</th>\n",
              "      <td>0.525147</td>\n",
              "      <td>0.529159</td>\n",
              "      <td>1.000000</td>\n",
              "      <td>0.754663</td>\n",
              "      <td>0.087735</td>\n",
              "      <td>0.500645</td>\n",
              "      <td>0.063742</td>\n",
              "      <td>-0.124946</td>\n",
              "      <td>0.664979</td>\n",
              "      <td>0.685339</td>\n",
              "      <td>0.506012</td>\n",
              "      <td>0.568628</td>\n",
              "      <td>0.087170</td>\n",
              "    </tr>\n",
              "    <tr>\n",
              "      <th>sqft_living</th>\n",
              "      <td>0.702047</td>\n",
              "      <td>0.591467</td>\n",
              "      <td>0.754663</td>\n",
              "      <td>1.000000</td>\n",
              "      <td>0.172822</td>\n",
              "      <td>0.353937</td>\n",
              "      <td>0.103816</td>\n",
              "      <td>-0.058704</td>\n",
              "      <td>0.762701</td>\n",
              "      <td>0.876597</td>\n",
              "      <td>0.318037</td>\n",
              "      <td>0.756419</td>\n",
              "      <td>0.183280</td>\n",
              "    </tr>\n",
              "    <tr>\n",
              "      <th>sqft_lot</th>\n",
              "      <td>0.089664</td>\n",
              "      <td>0.032807</td>\n",
              "      <td>0.087735</td>\n",
              "      <td>0.172822</td>\n",
              "      <td>1.000000</td>\n",
              "      <td>-0.005210</td>\n",
              "      <td>0.021603</td>\n",
              "      <td>-0.008935</td>\n",
              "      <td>0.113616</td>\n",
              "      <td>0.183507</td>\n",
              "      <td>0.053073</td>\n",
              "      <td>0.144602</td>\n",
              "      <td>0.718556</td>\n",
              "    </tr>\n",
              "    <tr>\n",
              "      <th>floors</th>\n",
              "      <td>0.256811</td>\n",
              "      <td>0.181085</td>\n",
              "      <td>0.500645</td>\n",
              "      <td>0.353937</td>\n",
              "      <td>-0.005210</td>\n",
              "      <td>1.000000</td>\n",
              "      <td>0.023695</td>\n",
              "      <td>-0.263706</td>\n",
              "      <td>0.458171</td>\n",
              "      <td>0.523866</td>\n",
              "      <td>0.489302</td>\n",
              "      <td>0.279856</td>\n",
              "      <td>-0.011282</td>\n",
              "    </tr>\n",
              "    <tr>\n",
              "      <th>waterfront</th>\n",
              "      <td>0.266371</td>\n",
              "      <td>-0.006611</td>\n",
              "      <td>0.063742</td>\n",
              "      <td>0.103816</td>\n",
              "      <td>0.021603</td>\n",
              "      <td>0.023695</td>\n",
              "      <td>1.000000</td>\n",
              "      <td>0.016665</td>\n",
              "      <td>0.082773</td>\n",
              "      <td>0.072072</td>\n",
              "      <td>-0.026165</td>\n",
              "      <td>0.086461</td>\n",
              "      <td>0.030702</td>\n",
              "    </tr>\n",
              "    <tr>\n",
              "      <th>condition</th>\n",
              "      <td>0.036336</td>\n",
              "      <td>0.025478</td>\n",
              "      <td>-0.124946</td>\n",
              "      <td>-0.058704</td>\n",
              "      <td>-0.008935</td>\n",
              "      <td>-0.263706</td>\n",
              "      <td>0.016665</td>\n",
              "      <td>1.000000</td>\n",
              "      <td>-0.144632</td>\n",
              "      <td>-0.158136</td>\n",
              "      <td>-0.361380</td>\n",
              "      <td>-0.092731</td>\n",
              "      <td>-0.003373</td>\n",
              "    </tr>\n",
              "    <tr>\n",
              "      <th>grade</th>\n",
              "      <td>0.667447</td>\n",
              "      <td>0.366502</td>\n",
              "      <td>0.664979</td>\n",
              "      <td>0.762701</td>\n",
              "      <td>0.113616</td>\n",
              "      <td>0.458171</td>\n",
              "      <td>0.082773</td>\n",
              "      <td>-0.144632</td>\n",
              "      <td>1.000000</td>\n",
              "      <td>0.755919</td>\n",
              "      <td>0.446952</td>\n",
              "      <td>0.713198</td>\n",
              "      <td>0.119241</td>\n",
              "    </tr>\n",
              "    <tr>\n",
              "      <th>sqft_above</th>\n",
              "      <td>0.605591</td>\n",
              "      <td>0.490600</td>\n",
              "      <td>0.685339</td>\n",
              "      <td>0.876597</td>\n",
              "      <td>0.183507</td>\n",
              "      <td>0.523866</td>\n",
              "      <td>0.072072</td>\n",
              "      <td>-0.158136</td>\n",
              "      <td>0.755919</td>\n",
              "      <td>1.000000</td>\n",
              "      <td>0.423879</td>\n",
              "      <td>0.731860</td>\n",
              "      <td>0.194042</td>\n",
              "    </tr>\n",
              "    <tr>\n",
              "      <th>yr_built</th>\n",
              "      <td>0.054023</td>\n",
              "      <td>0.159167</td>\n",
              "      <td>0.506012</td>\n",
              "      <td>0.318037</td>\n",
              "      <td>0.053073</td>\n",
              "      <td>0.489302</td>\n",
              "      <td>-0.026165</td>\n",
              "      <td>-0.361380</td>\n",
              "      <td>0.446952</td>\n",
              "      <td>0.423879</td>\n",
              "      <td>1.000000</td>\n",
              "      <td>0.326205</td>\n",
              "      <td>0.070948</td>\n",
              "    </tr>\n",
              "    <tr>\n",
              "      <th>sqft_living15</th>\n",
              "      <td>0.585404</td>\n",
              "      <td>0.402626</td>\n",
              "      <td>0.568628</td>\n",
              "      <td>0.756419</td>\n",
              "      <td>0.144602</td>\n",
              "      <td>0.279856</td>\n",
              "      <td>0.086461</td>\n",
              "      <td>-0.092731</td>\n",
              "      <td>0.713198</td>\n",
              "      <td>0.731860</td>\n",
              "      <td>0.326205</td>\n",
              "      <td>1.000000</td>\n",
              "      <td>0.183183</td>\n",
              "    </tr>\n",
              "    <tr>\n",
              "      <th>sqft_lot15</th>\n",
              "      <td>0.082451</td>\n",
              "      <td>0.030402</td>\n",
              "      <td>0.087170</td>\n",
              "      <td>0.183280</td>\n",
              "      <td>0.718556</td>\n",
              "      <td>-0.011282</td>\n",
              "      <td>0.030702</td>\n",
              "      <td>-0.003373</td>\n",
              "      <td>0.119241</td>\n",
              "      <td>0.194042</td>\n",
              "      <td>0.070948</td>\n",
              "      <td>0.183183</td>\n",
              "      <td>1.000000</td>\n",
              "    </tr>\n",
              "  </tbody>\n",
              "</table>\n",
              "</div>"
            ],
            "text/plain": [
              "                  price  bedrooms  ...  sqft_living15  sqft_lot15\n",
              "price          1.000000  0.315445  ...       0.585404    0.082451\n",
              "bedrooms       0.315445  1.000000  ...       0.402626    0.030402\n",
              "bathrooms      0.525147  0.529159  ...       0.568628    0.087170\n",
              "sqft_living    0.702047  0.591467  ...       0.756419    0.183280\n",
              "sqft_lot       0.089664  0.032807  ...       0.144602    0.718556\n",
              "floors         0.256811  0.181085  ...       0.279856   -0.011282\n",
              "waterfront     0.266371 -0.006611  ...       0.086461    0.030702\n",
              "condition      0.036336  0.025478  ...      -0.092731   -0.003373\n",
              "grade          0.667447  0.366502  ...       0.713198    0.119241\n",
              "sqft_above     0.605591  0.490600  ...       0.731860    0.194042\n",
              "yr_built       0.054023  0.159167  ...       0.326205    0.070948\n",
              "sqft_living15  0.585404  0.402626  ...       1.000000    0.183183\n",
              "sqft_lot15     0.082451  0.030402  ...       0.183183    1.000000\n",
              "\n",
              "[13 rows x 13 columns]"
            ]
          },
          "metadata": {
            "tags": []
          },
          "execution_count": 54
        }
      ]
    },
    {
      "cell_type": "code",
      "metadata": {
        "id": "HWnNIinWFqmu"
      },
      "source": [
        "# Choose a even more relevant subset according to corr\n",
        "# lot should still be considered\n",
        "# set up X and y\n",
        "X = dt[['bedrooms', 'bathrooms', 'sqft_living', 'sqft_lot' , 'floors', 'waterfront', 'grade', 'sqft_above', 'sqft_living15']]\n",
        "y = dt['price']\n",
        "# Train test split\n",
        "X_train, X_test, y_train, y_test = train_test_split(X, y, test_size=0.25, random_state=42)"
      ],
      "execution_count": 55,
      "outputs": []
    },
    {
      "cell_type": "code",
      "metadata": {
        "colab": {
          "base_uri": "https://localhost:8080/",
          "height": 0
        },
        "id": "c_5TGs_6FqpI",
        "outputId": "15bdddfd-6346-486e-890a-5377950a3259"
      },
      "source": [
        "# Linear regression model\n",
        "reg = LinearRegression()\n",
        "reg.fit(X_train, y_train)\n",
        "reg.coef_"
      ],
      "execution_count": 56,
      "outputs": [
        {
          "output_type": "execute_result",
          "data": {
            "text/plain": [
              "array([-3.97303820e+04, -1.39001086e+04,  2.51757630e+02, -3.20710113e-01,\n",
              "       -1.52940171e+04,  7.60947947e+05,  1.02255237e+05, -6.43302686e+01,\n",
              "        1.67961172e+01])"
            ]
          },
          "metadata": {
            "tags": []
          },
          "execution_count": 56
        }
      ]
    },
    {
      "cell_type": "code",
      "metadata": {
        "colab": {
          "base_uri": "https://localhost:8080/",
          "height": 417
        },
        "id": "hBNzF3s9QLHD",
        "outputId": "6b953bd9-dd4b-4785-e5af-6a4574aaa9fb"
      },
      "source": [
        "predicted_price = reg.predict(X_test)\n",
        "actual_price = y_test\n",
        "a = [i for i in range(len(y_test))]\n",
        "\n",
        "output = {'No.':a ,\"Actual Price\": actual_price, \"Predicted Price\": predicted_price, 'Difference': predicted_price - actual_price}\n",
        "df2 = pd.DataFrame.from_dict(output)\n",
        "df2"
      ],
      "execution_count": 72,
      "outputs": [
        {
          "output_type": "execute_result",
          "data": {
            "text/html": [
              "<div>\n",
              "<style scoped>\n",
              "    .dataframe tbody tr th:only-of-type {\n",
              "        vertical-align: middle;\n",
              "    }\n",
              "\n",
              "    .dataframe tbody tr th {\n",
              "        vertical-align: top;\n",
              "    }\n",
              "\n",
              "    .dataframe thead th {\n",
              "        text-align: right;\n",
              "    }\n",
              "</style>\n",
              "<table border=\"1\" class=\"dataframe\">\n",
              "  <thead>\n",
              "    <tr style=\"text-align: right;\">\n",
              "      <th></th>\n",
              "      <th>No.</th>\n",
              "      <th>Actual Price</th>\n",
              "      <th>Predicted Price</th>\n",
              "      <th>Difference</th>\n",
              "    </tr>\n",
              "  </thead>\n",
              "  <tbody>\n",
              "    <tr>\n",
              "      <th>735</th>\n",
              "      <td>0</td>\n",
              "      <td>365000.0</td>\n",
              "      <td>5.223986e+05</td>\n",
              "      <td>1.573986e+05</td>\n",
              "    </tr>\n",
              "    <tr>\n",
              "      <th>2830</th>\n",
              "      <td>1</td>\n",
              "      <td>865000.0</td>\n",
              "      <td>7.122930e+05</td>\n",
              "      <td>-1.527070e+05</td>\n",
              "    </tr>\n",
              "    <tr>\n",
              "      <th>4106</th>\n",
              "      <td>2</td>\n",
              "      <td>1038000.0</td>\n",
              "      <td>1.165845e+06</td>\n",
              "      <td>1.278453e+05</td>\n",
              "    </tr>\n",
              "    <tr>\n",
              "      <th>16219</th>\n",
              "      <td>3</td>\n",
              "      <td>590000.0</td>\n",
              "      <td>6.685056e+05</td>\n",
              "      <td>7.850556e+04</td>\n",
              "    </tr>\n",
              "    <tr>\n",
              "      <th>20879</th>\n",
              "      <td>4</td>\n",
              "      <td>352800.0</td>\n",
              "      <td>4.613336e+05</td>\n",
              "      <td>1.085336e+05</td>\n",
              "    </tr>\n",
              "    <tr>\n",
              "      <th>...</th>\n",
              "      <td>...</td>\n",
              "      <td>...</td>\n",
              "      <td>...</td>\n",
              "      <td>...</td>\n",
              "    </tr>\n",
              "    <tr>\n",
              "      <th>21071</th>\n",
              "      <td>5398</td>\n",
              "      <td>1080000.0</td>\n",
              "      <td>6.261482e+05</td>\n",
              "      <td>-4.538518e+05</td>\n",
              "    </tr>\n",
              "    <tr>\n",
              "      <th>11144</th>\n",
              "      <td>5399</td>\n",
              "      <td>650000.0</td>\n",
              "      <td>7.606306e+05</td>\n",
              "      <td>1.106306e+05</td>\n",
              "    </tr>\n",
              "    <tr>\n",
              "      <th>17804</th>\n",
              "      <td>5400</td>\n",
              "      <td>550000.0</td>\n",
              "      <td>7.577362e+05</td>\n",
              "      <td>2.077362e+05</td>\n",
              "    </tr>\n",
              "    <tr>\n",
              "      <th>268</th>\n",
              "      <td>5401</td>\n",
              "      <td>272500.0</td>\n",
              "      <td>6.100649e+05</td>\n",
              "      <td>3.375649e+05</td>\n",
              "    </tr>\n",
              "    <tr>\n",
              "      <th>518</th>\n",
              "      <td>5402</td>\n",
              "      <td>2250000.0</td>\n",
              "      <td>1.219000e+06</td>\n",
              "      <td>-1.031000e+06</td>\n",
              "    </tr>\n",
              "  </tbody>\n",
              "</table>\n",
              "<p>5403 rows × 4 columns</p>\n",
              "</div>"
            ],
            "text/plain": [
              "        No.  Actual Price  Predicted Price    Difference\n",
              "735       0      365000.0     5.223986e+05  1.573986e+05\n",
              "2830      1      865000.0     7.122930e+05 -1.527070e+05\n",
              "4106      2     1038000.0     1.165845e+06  1.278453e+05\n",
              "16219     3      590000.0     6.685056e+05  7.850556e+04\n",
              "20879     4      352800.0     4.613336e+05  1.085336e+05\n",
              "...     ...           ...              ...           ...\n",
              "21071  5398     1080000.0     6.261482e+05 -4.538518e+05\n",
              "11144  5399      650000.0     7.606306e+05  1.106306e+05\n",
              "17804  5400      550000.0     7.577362e+05  2.077362e+05\n",
              "268    5401      272500.0     6.100649e+05  3.375649e+05\n",
              "518    5402     2250000.0     1.219000e+06 -1.031000e+06\n",
              "\n",
              "[5403 rows x 4 columns]"
            ]
          },
          "metadata": {
            "tags": []
          },
          "execution_count": 72
        }
      ]
    },
    {
      "cell_type": "code",
      "metadata": {
        "id": "sxTLB-oPQLJc"
      },
      "source": [
        "df2.to_excel('house_price_prediction_model.xls')"
      ],
      "execution_count": 58,
      "outputs": []
    },
    {
      "cell_type": "code",
      "metadata": {
        "colab": {
          "base_uri": "https://localhost:8080/",
          "height": 386
        },
        "id": "iOvDSzi5QLL6",
        "outputId": "cbcbca52-f307-4fd3-8820-46765e4a7fa8"
      },
      "source": [
        "difference = predicted_price - actual_price\n",
        "sns.displot(difference )"
      ],
      "execution_count": 70,
      "outputs": [
        {
          "output_type": "execute_result",
          "data": {
            "text/plain": [
              "<seaborn.axisgrid.FacetGrid at 0x7f335e8f3c90>"
            ]
          },
          "metadata": {
            "tags": []
          },
          "execution_count": 70
        },
        {
          "output_type": "display_data",
          "data": {
            "image/png": "[encoded data removed]",
            "text/plain": [
              "<Figure size 360x360 with 1 Axes>"
            ]
          },
          "metadata": {
            "tags": [],
            "needs_background": "light"
          }
        }
      ]
    },
    {
      "cell_type": "code",
      "metadata": {
        "id": "bJ8NskFoQLOL"
      },
      "source": [
        "# To view the result of this model using Tableau, click this link\n",
        "# https://public.tableau.com/shared/NCCPKBXCG?:display_count=n&:origin=viz_share_link\n",
        "\n",
        "# Conclusion: this is not a good model. There might be some other important factors that we forget to consider.\n",
        "# Some relations might not be linear. We should try with some other model.\n",
        "\n",
        "# Two important factors that were not considered: house price vs time, and geographic location.\n",
        "# This is mostly because of linear regression cannot capture those factors well. (In general, price doesn't\n",
        "# scale linearly with respect to longitude or latitude.)"
      ],
      "execution_count": null,
      "outputs": []
    },
    {
      "cell_type": "code",
      "metadata": {
        "id": "GslJ-1jaQLQl"
      },
      "source": [
        ""
      ],
      "execution_count": null,
      "outputs": []
    },
    {
      "cell_type": "code",
      "metadata": {
        "id": "FYvEVcbjQLSx"
      },
      "source": [
        ""
      ],
      "execution_count": null,
      "outputs": []
    }
  ]
}